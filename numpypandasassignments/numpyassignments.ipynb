{
 "cells": [
  {
   "cell_type": "markdown",
   "metadata": {},
   "source": [
    "# Module: NumPy Assignments\n",
    "## Lesson: NumPy\n"
   ]
  },
  {
   "cell_type": "markdown",
   "id": "f89ad8c5",
   "metadata": {},
   "source": [
    "# SOLUTIONS:"
   ]
  },
  {
   "cell_type": "markdown",
   "id": "75654be4",
   "metadata": {},
   "source": [
    "### Assignment 1: Array Creation and Manipulation\n",
    "\n",
    "1. Create a NumPy array of shape (5, 5) filled with random integers between 1 and 20. Replace all the elements in the third column with 1.\n",
    "2. Create a NumPy array of shape (4, 4) with values from 1 to 16. Replace the diagonal elements with 0."
   ]
  },
  {
   "cell_type": "code",
   "execution_count": 2,
   "metadata": {},
   "outputs": [],
   "source": [
    "import numpy as np"
   ]
  },
  {
   "cell_type": "code",
   "execution_count": 3,
   "id": "690869b8",
   "metadata": {},
   "outputs": [
    {
     "name": "stdout",
     "output_type": "stream",
     "text": [
      "1)\n",
      "\n",
      "Original Array:\n",
      " [[ 1  1  5 18 18]\n",
      " [15  2 19  6  9]\n",
      " [11  2  7  8 19]\n",
      " [18 15  3  9 16]\n",
      " [ 8 19 17 12  6]]\n",
      "\n",
      "Modified Array:\n",
      " [[ 1  1  1 18 18]\n",
      " [15  2  1  6  9]\n",
      " [11  2  1  8 19]\n",
      " [18 15  1  9 16]\n",
      " [ 8 19  1 12  6]]\n",
      "\n",
      "2)\n",
      "\n",
      "Original Array:\n",
      " [[16 12 14 15]\n",
      " [ 8 12 14 14]\n",
      " [ 6  9 15  9]\n",
      " [16 10 10  5]]\n",
      "\n",
      "Modified Array:\n",
      " [[ 0 12 14 15]\n",
      " [ 8  0 14 14]\n",
      " [ 6  9  0  9]\n",
      " [16 10 10  0]]\n"
     ]
    }
   ],
   "source": [
    "# 1)\n",
    "\n",
    "# original array creation\n",
    "arr101 = np.random.randint(1, 21, size= (5,5))\n",
    "print(\"1)\\n\\nOriginal Array:\\n\",arr101)\n",
    "\n",
    "# replacement of original array creation\n",
    "arr101[:,2] = 1\n",
    "print(\"\\nModified Array:\\n\", arr101)\n",
    "\n",
    "# 2)\n",
    "\n",
    "# original array creation\n",
    "arr102 = np.random.randint(1,17, size= (4,4))\n",
    "print(\"\\n2)\\n\\nOriginal Array:\\n\",arr102)\n",
    "\n",
    "# diagonal replacement\n",
    "# arr102[np.arange(4), np.arange(4)] = 0\n",
    "np.fill_diagonal(arr102,0)\n",
    "print(\"\\nModified Array:\\n\", arr102)"
   ]
  },
  {
   "cell_type": "markdown",
   "id": "6c7f6534",
   "metadata": {},
   "source": [
    "### Assignment 2: Array Indexing and Slicing\n",
    "\n",
    "1. Create a NumPy array of shape (6, 6) with values from 1 to 36. Extract the sub-array consisting of the 3rd to 5th rows and 2nd to 4th columns.\n",
    "2. Create a NumPy array of shape (5, 5) with random integers. Extract the elements on the border."
   ]
  },
  {
   "cell_type": "code",
   "execution_count": 4,
   "id": "4028a80a",
   "metadata": {},
   "outputs": [
    {
     "name": "stdout",
     "output_type": "stream",
     "text": [
      "1)\n",
      "\n",
      " Original array creation:\n",
      " [[27 35 25 13 23  5]\n",
      " [32 24 21 33 22 11]\n",
      " [ 6 19 19 23  5 23]\n",
      " [18 23 34 15 21  1]\n",
      " [ 8  8 14  9 20 24]\n",
      " [18 24 33 21 11  5]]\n",
      "\n",
      "Sub-array:\n",
      " [[19 19 23]\n",
      " [23 34 15]\n",
      " [ 8 14  9]]\n",
      "\n",
      "2)\n",
      "\n",
      " Original array creation:\n",
      " [[21 37 22 15 10]\n",
      " [ 9 39  9 48 21]\n",
      " [40 23  1 37 40]\n",
      " [ 6 30 24 32  8]\n",
      " [ 0 29 49 21 39]]\n",
      "\n",
      "Elements on the border:\n",
      " [21 37 22 15 10 21 40  8  9 40  6  0 29 49 21 39]\n"
     ]
    }
   ],
   "source": [
    "# 1)\n",
    "\n",
    "# original array creation\n",
    "arr201 = np.random.randint(1,37, size = (6,6))\n",
    "print(\"1)\\n\\n Original array creation:\\n\", arr201)\n",
    "\n",
    "# Sub-array\n",
    "print(\"\\nSub-array:\\n\", arr201[2:5,1:4])\n",
    "\n",
    "#2)\n",
    "# original array creation\n",
    "arr202 = np.random.randint(50,size = (5,5))\n",
    "print(\"\\n2)\\n\\n Original array creation:\\n\", arr202)\n",
    "\n",
    "# Elements on the border\n",
    "print(\"\\nElements on the border:\\n\",\n",
    "      np.concatenate(\n",
    "          (arr202[0,:],\n",
    "           arr202[1:-1,-1],\n",
    "           arr202[1:-1,0],\n",
    "           arr202[-1,:])))\n"
   ]
  },
  {
   "cell_type": "markdown",
   "id": "b0d8a684",
   "metadata": {},
   "source": [
    "### Assignment 3: Array Operations\n",
    "\n",
    "1. Create two NumPy arrays of shape (3, 4) filled with random integers. Perform element-wise addition, subtraction, multiplication, and division.\n",
    "2. Create a NumPy array of shape (4, 4) with values from 1 to 16. Compute the row-wise and column-wise sum."
   ]
  },
  {
   "cell_type": "code",
   "execution_count": 5,
   "id": "ecaf0d7e",
   "metadata": {},
   "outputs": [
    {
     "name": "stdout",
     "output_type": "stream",
     "text": [
      "1)\n",
      "\n",
      " Array 01:\n",
      " [[36 24 24 39]\n",
      " [10 32 21 28]\n",
      " [ 8 27 37 29]]\n",
      "\n",
      " Array 02:\n",
      " [[21 22 13 18]\n",
      " [24 30 38 45]\n",
      " [ 5 22  5 41]]\n",
      "\n",
      " Element wise addition:\n",
      " [[57 46 37 57]\n",
      " [34 62 59 73]\n",
      " [13 49 42 70]]\n",
      "\n",
      " Element wise subtraction:\n",
      " [[ 15   2  11  21]\n",
      " [-14   2 -17 -17]\n",
      " [  3   5  32 -12]]\n",
      "\n",
      " Element wise multiplication:\n",
      " [[ 756  528  312  702]\n",
      " [ 240  960  798 1260]\n",
      " [  40  594  185 1189]]\n",
      "\n",
      " Element wise division:\n",
      " [[1.71428571 1.09090909 1.84615385 2.16666667]\n",
      " [0.41666667 1.06666667 0.55263158 0.62222222]\n",
      " [1.6        1.22727273 7.4        0.70731707]]\n"
     ]
    }
   ],
   "source": [
    "#1)\n",
    "\n",
    "# array 01:\n",
    "arr301 = np.random.randint(1, 50,size = (3,4))\n",
    "print(\"1)\\n\\n Array 01:\\n\", arr301)\n",
    "\n",
    "# array 02:\n",
    "arr302 = np.random.randint(1, 50,size = (3,4))\n",
    "print(\"\\n Array 02:\\n\", arr302)\n",
    "\n",
    "#Element wise addition\n",
    "arr303 = arr301 + arr302\n",
    "print(\"\\n Element wise addition:\\n\", arr303)\n",
    "\n",
    "#Element wise subtraction\n",
    "arr304 = arr301 - arr302\n",
    "print(\"\\n Element wise subtraction:\\n\", arr304)\n",
    "\n",
    "#Element wise multiplication\n",
    "arr305 = arr301 * arr302\n",
    "print(\"\\n Element wise multiplication:\\n\", arr305)\n",
    "\n",
    "#Element wise Division\n",
    "arr306 = arr301 / arr302\n",
    "print(\"\\n Element wise division:\\n\", arr306)\n"
   ]
  },
  {
   "cell_type": "code",
   "execution_count": 6,
   "id": "887902f3",
   "metadata": {},
   "outputs": [
    {
     "name": "stdout",
     "output_type": "stream",
     "text": [
      "\n",
      "2)\n",
      "\n",
      " Array 03:\n",
      " [[ 8  6  7  7]\n",
      " [ 9  1  1  6]\n",
      " [13 12 16  3]\n",
      " [11  7 15 13]]\n",
      "\n",
      " Row-wise sum of Array:\n",
      " [28 17 44 46]\n",
      "\n",
      " Column-wise sum of Array:\n",
      " [41 26 39 29]\n"
     ]
    }
   ],
   "source": [
    "#2\n",
    "\n",
    "#Array Creation:\n",
    "\n",
    "arr307 = np.random.randint(1, 17, size = (4,4))\n",
    "print(\"\\n2)\\n\\n Array 03:\\n\", arr307)\n",
    "\n",
    "#Row-wise sum\n",
    "print(\"\\n Row-wise sum of Array:\\n\", np.sum(arr307, axis = 1))\n",
    "\n",
    "#Column-wise sum\n",
    "print(\"\\n Column-wise sum of Array:\\n\", np.sum(arr307, axis = 0))\n"
   ]
  },
  {
   "cell_type": "markdown",
   "id": "c86b0873",
   "metadata": {},
   "source": [
    "### Assignment 4: Statistical Operations\n",
    "\n",
    "1. Create a NumPy array of shape (5, 5) filled with random integers. Compute the mean, median, standard deviation, and variance of the array.\n",
    "2. Create a NumPy array of shape (3, 3) with values from 1 to 9. Normalize the array (i.e., scale the values to have a mean of 0 and a standard deviation of 1)."
   ]
  },
  {
   "cell_type": "code",
   "execution_count": 7,
   "id": "4ae5182f",
   "metadata": {},
   "outputs": [
    {
     "name": "stdout",
     "output_type": "stream",
     "text": [
      "1)\n",
      "\n",
      " Original array creation:\n",
      " [[-5  8 17  6  1]\n",
      " [ 3 -2  7 -1 -5]\n",
      " [ 8 16 14 -1 -3]\n",
      " [-2 16 15 12  7]\n",
      " [10 18  1 12  9]]\n",
      "\n",
      "Mean :\t\t\t 6.44\n",
      "Median :\t\t 7.0\n",
      "Standard Deviation :\t 7.266801221995824\n",
      "Variance :\t\t 52.8064\n"
     ]
    }
   ],
   "source": [
    "# 1)\n",
    "\n",
    "# original array creation\n",
    "arr401 = np.random.randint(-5,20, size = (5,5))\n",
    "print(\"1)\\n\\n Original array creation:\\n\", arr401)\n",
    "\n",
    "print(\"\\nMean :\\t\\t\\t\",arr401.mean())\n",
    "print(\"Median :\\t\\t\",np.median(arr401))\n",
    "print(\"Standard Deviation :\\t\",arr401.std())\n",
    "print(\"Variance :\\t\\t\",arr401.var())"
   ]
  },
  {
   "cell_type": "code",
   "execution_count": 8,
   "id": "22c3e368",
   "metadata": {},
   "outputs": [
    {
     "name": "stdout",
     "output_type": "stream",
     "text": [
      "2)\n",
      "\n",
      " Original array creation:\n",
      " [[1 2 3]\n",
      " [4 5 6]\n",
      " [7 8 9]]\n",
      "\n",
      "Normalised Array :\n",
      " [[-1.54919334 -1.161895   -0.77459667]\n",
      " [-0.38729833  0.          0.38729833]\n",
      " [ 0.77459667  1.161895    1.54919334]]\n"
     ]
    }
   ],
   "source": [
    "# 2)\n",
    "\n",
    "# original array creation\n",
    "arr402 = np.arange(1,10,1).reshape(3,3)\n",
    "\n",
    "# arr402 = np.random.randint(1,10, size = (3,3))\n",
    "print(\"2)\\n\\n Original array creation:\\n\", arr402)\n",
    "\n",
    "#Normalised Array = (Array - Mean) / Standard Deviation\n",
    "arr403 = (arr402 - np.mean(arr402)) / np.std(arr402)\n",
    "\n",
    "print(\"\\nNormalised Array :\\n\",arr403)"
   ]
  },
  {
   "cell_type": "markdown",
   "id": "822233c5",
   "metadata": {},
   "source": [
    "### Assignment 5: Broadcasting\n",
    "\n",
    "1. Create a NumPy array of shape (3, 3) filled with random integers. Add a 1D array of shape (3,) to each row of the 2D array using broadcasting.\n",
    "2. Create a NumPy array of shape (4, 4) filled with random integers. Subtract a 1D array of shape (4,) from each column of the 2D array using broadcasting."
   ]
  },
  {
   "cell_type": "code",
   "execution_count": 9,
   "id": "6703d91c",
   "metadata": {},
   "outputs": [
    {
     "name": "stdout",
     "output_type": "stream",
     "text": [
      "1)\n",
      "\n",
      " Array 01:\n",
      " [[10  5  6]\n",
      " [ 6 10  6]\n",
      " [ 3  5  4]]\n",
      "\n",
      " Array 02:\n",
      " [2 5 5]\n",
      "\n",
      "Add the 1D array to each row of the 2D array using broadcasting:\n",
      " [[12 10 11]\n",
      " [ 8 15 11]\n",
      " [ 5 10  9]]\n"
     ]
    }
   ],
   "source": [
    "# 1)\n",
    "\n",
    "# array 01:\n",
    "arr501 = np.random.randint(1, 11, size = (3,3))\n",
    "print(\"1)\\n\\n Array 01:\\n\", arr501)\n",
    "\n",
    "# array 02:\n",
    "arr502 = np.random.randint(1, 11,size = (3,))\n",
    "print(\"\\n Array 02:\\n\", arr502)\n",
    "\n",
    "# # Add the 1D array to each row of the 2D array using broadcasting\n",
    "print(\"\\nAdd the 1D array to each row of the 2D array using broadcasting:\\n\",arr501 + arr502)"
   ]
  },
  {
   "cell_type": "code",
   "execution_count": 10,
   "id": "0ec005b5",
   "metadata": {},
   "outputs": [
    {
     "name": "stdout",
     "output_type": "stream",
     "text": [
      "2)\n",
      "\n",
      " Array 01:\n",
      " [[ 1  5  3]\n",
      " [10  5  5]\n",
      " [ 6  4  2]]\n",
      "\n",
      " Array 02:\n",
      " [6 1 5]\n",
      "\n",
      "Subtract the 1D array to each row of the 2D array using broadcasting:\n",
      " [[-5  4 -2]\n",
      " [ 4  4  0]\n",
      " [ 0  3 -3]]\n"
     ]
    }
   ],
   "source": [
    "# 2)\n",
    "\n",
    "# array 01:\n",
    "arr503 = np.random.randint(1, 11, size = (3,3))\n",
    "print(\"2)\\n\\n Array 01:\\n\", arr503)\n",
    "\n",
    "# array 02:\n",
    "arr504 = np.random.randint(1, 11,size = (3,))\n",
    "print(\"\\n Array 02:\\n\", arr504)\n",
    "\n",
    "# # Subtract the 1D array to each row of the 2D array using broadcasting\n",
    "print(\"\\nSubtract the 1D array to each row of the 2D array using broadcasting:\\n\",arr503 - arr504)"
   ]
  },
  {
   "cell_type": "markdown",
   "id": "735c5b29",
   "metadata": {},
   "source": [
    "### Assignment 6: Linear Algebra\n",
    "\n",
    "1. Create a NumPy array of shape (3, 3) representing a matrix. Compute its determinant, inverse, and eigenvalues.\n",
    "2. Create two NumPy arrays of shape (2, 3) and (3, 2). Perform matrix multiplication on these arrays."
   ]
  },
  {
   "cell_type": "code",
   "execution_count": 17,
   "id": "9b1918af",
   "metadata": {},
   "outputs": [
    {
     "name": "stdout",
     "output_type": "stream",
     "text": [
      "1)\n",
      "\n",
      " Original array creation:\n",
      " [[13  7  3]\n",
      " [ 4 11  9]\n",
      " [ 1  3 15]]\n",
      "\n",
      "Determinant of Array :\t 1440.0000000000005\n",
      "\n",
      "Inverse of Array :\n",
      " [[ 0.09583333 -0.06666667  0.02083333]\n",
      " [-0.03541667  0.13333333 -0.07291667]\n",
      " [ 0.00069444 -0.02222222  0.07986111]]\n",
      "\n",
      "Eigen Values of Array :\n",
      " [21.24284824 12.20146463  5.55568713]\n"
     ]
    }
   ],
   "source": [
    "# 1)\n",
    "\n",
    "# original array creation\n",
    "arr601 = np.random.randint(1,19, size = (3,3))\n",
    "print(\"1)\\n\\n Original array creation:\\n\", arr601)\n",
    "\n",
    "# Determinant\n",
    "print(\"\\nDeterminant of Array :\\t\",np.linalg.det(arr601))\n",
    "\n",
    "# Inverse\n",
    "print(\"\\nInverse of Array :\\n\",np.linalg.inv(arr601))\n",
    "\n",
    "# Eigenvalues and eigenvectors\n",
    "print(\"\\nEigen Values of Array :\\n\",np.linalg.eigvals(arr601))"
   ]
  },
  {
   "cell_type": "code",
   "execution_count": 22,
   "id": "15afc1f6",
   "metadata": {},
   "outputs": [
    {
     "name": "stdout",
     "output_type": "stream",
     "text": [
      "2)\n",
      "\n",
      " Array 01:\n",
      " [[2 3 6]\n",
      " [4 7 9]]\n",
      "\n",
      " Array 02:\n",
      " [[8 9]\n",
      " [3 2]\n",
      " [9 9]]\n",
      "\n",
      "Matrix dot product of Array 1 and Array 2:\n",
      " [[ 79  78]\n",
      " [134 131]]\n"
     ]
    }
   ],
   "source": [
    "# 2)\n",
    "\n",
    "# Array creation:\n",
    "# array 01:\n",
    "arr602 = np.random.randint(1, 10, size = (2,3))\n",
    "print(\"2)\\n\\n Array 01:\\n\", arr602)\n",
    "\n",
    "# array 02:\n",
    "arr603 = np.random.randint(1, 10,size = (3,2))\n",
    "print(\"\\n Array 02:\\n\", arr603)\n",
    "\n",
    "# Matrix dot product operation:\n",
    "print(\"\\nMatrix dot product of Array 1 and Array 2:\\n\", np.dot(arr602, arr603))"
   ]
  },
  {
   "cell_type": "markdown",
   "id": "fcd85b1a",
   "metadata": {},
   "source": [
    "### Assignment 7: Advanced Array Manipulation\n",
    "\n",
    "1. Create a NumPy array of shape (3, 3) with values from 1 to 9. Reshape the array to shape (1, 9) and then to shape (9, 1).\n",
    "2. Create a NumPy array of shape (5, 5) filled with random integers. Flatten the array and then reshape it back to (5, 5)."
   ]
  },
  {
   "cell_type": "code",
   "execution_count": 32,
   "id": "c3cac398",
   "metadata": {},
   "outputs": [
    {
     "name": "stdout",
     "output_type": "stream",
     "text": [
      "1)\n",
      "\n",
      " Original array creation:\n",
      " [[1 2 3]\n",
      " [4 5 6]\n",
      " [7 8 9]]\n",
      "\n",
      " Reshaped array (1x9):\n",
      " [[1 2 3 4 5 6 7 8 9]]\n",
      "\n",
      " Reshaped array (9x1):\n",
      " [[1]\n",
      " [2]\n",
      " [3]\n",
      " [4]\n",
      " [5]\n",
      " [6]\n",
      " [7]\n",
      " [8]\n",
      " [9]]\n"
     ]
    }
   ],
   "source": [
    "# 1)\n",
    "\n",
    "# original array creation\n",
    "arr701 = np.arange(1, 10).reshape(3,3)\n",
    "print(\"1)\\n\\n Original array creation:\\n\", arr701)\n",
    "\n",
    "# Reshape the array to shape (1, 9)\n",
    "arr702 = arr701.reshape(1, 9)\n",
    "print(\"\\n Reshaped array (1x9):\\n\", arr702)\n",
    "\n",
    "# Reshape the array to shape (9, 1)\n",
    "arr703 = arr702.reshape(9, 1)\n",
    "print(\"\\n Reshaped array (9x1):\\n\", arr703)\n"
   ]
  },
  {
   "cell_type": "code",
   "execution_count": 37,
   "id": "ce3e212c",
   "metadata": {},
   "outputs": [
    {
     "name": "stdout",
     "output_type": "stream",
     "text": [
      "2)\n",
      "\n",
      " Original array creation:\n",
      " [[177 148 137 106 167]\n",
      " [179 119 158 172 134]\n",
      " [181 105 101 191 160]\n",
      " [130 138 114 194 172]\n",
      " [176 197 126 118 186]]\n",
      "\n",
      " Flattened array:\n",
      " [177 148 137 106 167 179 119 158 172 134 181 105 101 191 160 130 138 114\n",
      " 194 172 176 197 126 118 186]\n",
      "\n",
      " Reshaped array (5x5):\n",
      " [[177 148 137 106 167]\n",
      " [179 119 158 172 134]\n",
      " [181 105 101 191 160]\n",
      " [130 138 114 194 172]\n",
      " [176 197 126 118 186]]\n"
     ]
    }
   ],
   "source": [
    "# 2)\n",
    "\n",
    "# original array creation\n",
    "arr704 = np.random.randint(101, 201, size = (5,5))\n",
    "print(\"2)\\n\\n Original array creation:\\n\", arr704)\n",
    "\n",
    "# Flatten the array\n",
    "arr705 = arr704.flatten()\n",
    "print(\"\\n Flattened array:\\n\", arr705)\n",
    "\n",
    "#  Reshape the array to shape (5,5)\n",
    "arr706 = arr705.reshape(5, 5)\n",
    "print(\"\\n Reshaped array (5x5):\\n\", arr706)"
   ]
  },
  {
   "cell_type": "markdown",
   "id": "ed39989c",
   "metadata": {},
   "source": [
    "### Assignment 8: Fancy Indexing and Boolean Indexing\n",
    "\n",
    "1. Create a NumPy array of shape (5, 5) filled with random integers. Use fancy indexing to extract the elements at the corners of the array.\n",
    "2. Create a NumPy array of shape (4, 4) filled with random integers. Use boolean indexing to set all elements greater than 10 to 10."
   ]
  },
  {
   "cell_type": "code",
   "execution_count": 41,
   "id": "8c927afd",
   "metadata": {},
   "outputs": [
    {
     "name": "stdout",
     "output_type": "stream",
     "text": [
      "1)\n",
      "\n",
      " Original array creation:\n",
      " [[ 1 12  2 35 38]\n",
      " [46 10 40  4  6]\n",
      " [29 39 25 39 36]\n",
      " [ 3 12  8 12 28]\n",
      " [40  3 20 35 39]]\n",
      "\n",
      "Elements at the corner of the Array :\t [ 1 38 40 39]\n"
     ]
    }
   ],
   "source": [
    "# 1)\n",
    "\n",
    "# original array creation:\n",
    "\n",
    "# original array creation\n",
    "arr801 = np.random.randint(1,51, size = (5,5))\n",
    "print(\"1)\\n\\n Original array creation:\\n\", arr801)\n",
    "\n",
    "# Element at the corners of the array\n",
    "print(\"\\nElements at the corner of the Array :\\t\",arr801[[0,0,-1,-1],[0,-1,0,-1]])"
   ]
  },
  {
   "cell_type": "code",
   "execution_count": 45,
   "id": "a1e62a93",
   "metadata": {},
   "outputs": [
    {
     "name": "stdout",
     "output_type": "stream",
     "text": [
      "2)\n",
      "\n",
      " Original array creation:\n",
      " [[61 21 63 73]\n",
      " [28 39 87 64]\n",
      " [40 33 19 74]\n",
      " [92 87 89 14]]\n",
      "\n",
      "Changing all elements above 50 as 50 :\n",
      " [[50 21 50 50]\n",
      " [28 39 50 50]\n",
      " [40 33 19 50]\n",
      " [50 50 50 14]]\n"
     ]
    }
   ],
   "source": [
    "# 2)\n",
    "\n",
    "# original array creation\n",
    "arr802 = np.random.randint(1,101, size = (4,4))\n",
    "print(\"2)\\n\\n Original array creation:\\n\", arr802)\n",
    "\n",
    "# Changing all elements above 50 as 50.\n",
    "arr802[arr802>50] = 50\n",
    "\n",
    "print(\"\\nChanging all elements above 50 as 50 :\\n\",arr802)"
   ]
  },
  {
   "cell_type": "markdown",
   "id": "9a51b63f",
   "metadata": {},
   "source": [
    "### Assignment 9: Structured Arrays\n",
    "\n",
    "1. Create a structured array with fields 'name' (string), 'age' (integer), and 'weight' (float). Add some data and sort the array by age.\n",
    "2. Create a structured array with fields 'x' and 'y' (both integers). Add some data and compute the Euclidean distance between each pair of points."
   ]
  },
  {
   "cell_type": "code",
   "execution_count": 47,
   "id": "e3e4b87c",
   "metadata": {},
   "outputs": [
    {
     "name": "stdout",
     "output_type": "stream",
     "text": [
      "Original array:\n",
      "[('Alice', 25, 55.5) ('Bob', 30, 85.3) ('Charlie', 20, 65.2)]\n",
      "Sorted array by age:\n",
      "[('Charlie', 20, 65.2) ('Alice', 25, 55.5) ('Bob', 30, 85.3)]\n"
     ]
    }
   ],
   "source": [
    "# Create a structured array with fields 'name', 'age', and 'weight'\n",
    "data_type = [('name', 'U10'), ('age', 'i4'), ('weight', 'f4')]\n",
    "data = np.array([('Alice', 25, 55.5), ('Bob', 30, 85.3), ('Charlie', 20, 65.2)], dtype=data_type)\n",
    "print(\"Original array:\")\n",
    "print(data)\n",
    "\n",
    "# Sort the array by age\n",
    "sorted_data = np.sort(data, order='age')\n",
    "print(\"Sorted array by age:\")\n",
    "print(sorted_data)"
   ]
  },
  {
   "cell_type": "code",
   "execution_count": 58,
   "id": "0b77471c",
   "metadata": {},
   "outputs": [
    {
     "name": "stdout",
     "output_type": "stream",
     "text": [
      "Original array:\n",
      "[(1, 2) (3, 4) (5, 6)]\n",
      "Euclidean distances:\n",
      "[[0.         2.82842712 5.65685425]\n",
      " [2.82842712 0.         2.82842712]\n",
      " [5.65685425 2.82842712 0.        ]]\n"
     ]
    }
   ],
   "source": [
    "# Create a structured array with fields 'x' and 'y'\n",
    "data_type = [('x', 'i4'), ('y', 'i4')]\n",
    "data = np.array([(1, 2), (3, 4), (5, 6)], dtype=data_type)\n",
    "print(\"Original array:\")\n",
    "print(data)\n",
    "\n",
    "# Compute the Euclidean distance between each pair of points\n",
    "distances = np.sqrt((data['x'][:, np.newaxis] - data['x'])**2 + (data['y'][:, np.newaxis] - data['y'])**2)\n",
    "print(\"Euclidean distances:\")\n",
    "print(distances)"
   ]
  },
  {
   "cell_type": "markdown",
   "id": "190d7358",
   "metadata": {},
   "source": [
    "### Assignment 10: Masked Arrays\n",
    "\n",
    "1. Create a masked array of shape (4, 4) with random integers and mask the elements greater than 10. Compute the sum of the unmasked elements.\n",
    "2. Create a masked array of shape (3, 3) with random integers and mask the diagonal elements. Replace the masked elements with the mean of the unmasked elements."
   ]
  },
  {
   "cell_type": "code",
   "execution_count": 59,
   "id": "426ab248",
   "metadata": {},
   "outputs": [
    {
     "name": "stdout",
     "output_type": "stream",
     "text": [
      "Original array:\n",
      "[[14 10  7  2]\n",
      " [ 4 17 19  5]\n",
      " [14 15  5  4]\n",
      " [ 2  3 18 18]]\n",
      "Masked array:\n",
      "[[-- 10 7 2]\n",
      " [4 -- -- 5]\n",
      " [-- -- 5 4]\n",
      " [2 3 -- --]]\n",
      "Sum of unmasked elements: 42\n"
     ]
    }
   ],
   "source": [
    "import numpy.ma as ma\n",
    "\n",
    "# Create a masked array of shape (4, 4) with random integers\n",
    "array = np.random.randint(1, 21, size=(4, 4))\n",
    "masked_array = ma.masked_greater(array, 10)\n",
    "print(\"Original array:\")\n",
    "print(array)\n",
    "print(\"Masked array:\")\n",
    "print(masked_array)\n",
    "\n",
    "# Compute the sum of the unmasked elements\n",
    "sum_unmasked = masked_array.sum()\n",
    "print(\"Sum of unmasked elements:\", sum_unmasked)"
   ]
  },
  {
   "cell_type": "code",
   "execution_count": 61,
   "id": "96c4eded",
   "metadata": {},
   "outputs": [
    {
     "name": "stdout",
     "output_type": "stream",
     "text": [
      "Original array:\n",
      "[[ 1  7  9]\n",
      " [14  5  4]\n",
      " [ 6  3  8]]\n",
      "Masked array:\n",
      "[[-- 7 9]\n",
      " [14 -- 4]\n",
      " [6 3 --]]\n",
      "Modified masked array:\n",
      "[[ 7  7  9]\n",
      " [14  7  4]\n",
      " [ 6  3  7]]\n"
     ]
    }
   ],
   "source": [
    "# Create a masked array of shape (3, 3) with random integers\n",
    "array = np.random.randint(1, 21, size=(3, 3))\n",
    "masked_array = ma.masked_array(array, mask=np.eye(3, dtype=bool))\n",
    "print(\"Original array:\")\n",
    "print(array)\n",
    "print(\"Masked array:\")\n",
    "print(masked_array)\n",
    "\n",
    "# Replace the masked elements with the mean of the unmasked elements\n",
    "mean_unmasked = masked_array.mean()\n",
    "masked_array = masked_array.filled(mean_unmasked)\n",
    "print(\"Modified masked array:\")\n",
    "print(masked_array)"
   ]
  },
  {
   "cell_type": "code",
   "execution_count": null,
   "id": "86b8db82",
   "metadata": {},
   "outputs": [],
   "source": [
    "all_arr = ['arr101', 'arr102', 'arr201', 'arr202', 'arr301', 'arr302', 'arr303', 'arr304', 'arr305', 'arr306', 'arr307', 'arr401', 'arr402', 'arr403', 'arr501', 'arr502', 'arr503', 'arr504', 'arr601', 'arr602', 'arr603', 'arr701', 'arr702', 'arr703', 'arr704', 'arr705', 'arr706', 'arr801', 'arr802']\n",
    "\n",
    "for arr in all_arr:\n",
    "    print(arr,\":\\n\",eval(arr),\"\\n\")\n"
   ]
  },
  {
   "cell_type": "code",
   "execution_count": null,
   "id": "0663edb1",
   "metadata": {},
   "outputs": [],
   "source": [
    "arr901 = np.random.randint(1,101, size = (5,5))\n",
    "print(\"Random 5 x 5 array with numbers between 1 and 101:\\n\",arr901)\n",
    "# ma.MaskedArray(arr901,mask = np.eye(4, dtype= bool))\n",
    "arr902 = ma.masked_outside(arr901, 90,10)\n",
    "print(\"masked outside 90 and 10:\\n\",arr902)\n",
    "\n",
    "arr903 = ma.mask_rowcols(arr902,axis = 0)\n",
    "print(\"mask row if any one mask present:\\n\",arr903)\n",
    "\n",
    "arr904 = ma.mask_rowcols(arr902,axis = 1)\n",
    "print(\"mask column if any one mask present:\\n\",arr904)\n",
    "\n",
    "arr905 = ma.masked_where(arr901<40, arr901)\n",
    "print(\"masked where < 40:\\n\",arr905)"
   ]
  }
 ],
 "metadata": {
  "kernelspec": {
   "display_name": "Python 3",
   "language": "python",
   "name": "python3"
  },
  "language_info": {
   "codemirror_mode": {
    "name": "ipython",
    "version": 3
   },
   "file_extension": ".py",
   "mimetype": "text/x-python",
   "name": "python",
   "nbconvert_exporter": "python",
   "pygments_lexer": "ipython3",
   "version": "3.12.0"
  }
 },
 "nbformat": 4,
 "nbformat_minor": 5
}
