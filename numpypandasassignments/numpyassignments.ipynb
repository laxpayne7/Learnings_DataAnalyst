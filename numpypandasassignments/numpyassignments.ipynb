{
 "cells": [
  {
   "cell_type": "markdown",
   "metadata": {},
   "source": [
    "# Module: NumPy Assignments\n",
    "## Lesson: NumPy\n",
    "\n",
    "\n",
    "\n",
    "### Assignment 6: Linear Algebra\n",
    "\n",
    "1. Create a NumPy array of shape (3, 3) representing a matrix. Compute its determinant, inverse, and eigenvalues.\n",
    "2. Create two NumPy arrays of shape (2, 3) and (3, 2). Perform matrix multiplication on these arrays.\n",
    "\n",
    "### Assignment 7: Advanced Array Manipulation\n",
    "\n",
    "1. Create a NumPy array of shape (3, 3) with values from 1 to 9. Reshape the array to shape (1, 9) and then to shape (9, 1).\n",
    "2. Create a NumPy array of shape (5, 5) filled with random integers. Flatten the array and then reshape it back to (5, 5).\n",
    "\n",
    "### Assignment 8: Fancy Indexing and Boolean Indexing\n",
    "\n",
    "1. Create a NumPy array of shape (5, 5) filled with random integers. Use fancy indexing to extract the elements at the corners of the array.\n",
    "2. Create a NumPy array of shape (4, 4) filled with random integers. Use boolean indexing to set all elements greater than 10 to 10.\n",
    "\n",
    "### Assignment 9: Structured Arrays\n",
    "\n",
    "1. Create a structured array with fields 'name' (string), 'age' (integer), and 'weight' (float). Add some data and sort the array by age.\n",
    "2. Create a structured array with fields 'x' and 'y' (both integers). Add some data and compute the Euclidean distance between each pair of points.\n",
    "\n",
    "### Assignment 10: Masked Arrays\n",
    "\n",
    "1. Create a masked array of shape (4, 4) with random integers and mask the elements greater than 10. Compute the sum of the unmasked elements.\n",
    "2. Create a masked array of shape (3, 3) with random integers and mask the diagonal elements. Replace the masked elements with the mean of the unmasked elements."
   ]
  },
  {
   "cell_type": "markdown",
   "id": "f89ad8c5",
   "metadata": {},
   "source": [
    "# SOLUTIONS:"
   ]
  },
  {
   "cell_type": "markdown",
   "id": "75654be4",
   "metadata": {},
   "source": [
    "### Assignment 1: Array Creation and Manipulation\n",
    "\n",
    "1. Create a NumPy array of shape (5, 5) filled with random integers between 1 and 20. Replace all the elements in the third column with 1.\n",
    "2. Create a NumPy array of shape (4, 4) with values from 1 to 16. Replace the diagonal elements with 0."
   ]
  },
  {
   "cell_type": "code",
   "execution_count": 1,
   "metadata": {},
   "outputs": [],
   "source": [
    "import numpy as np"
   ]
  },
  {
   "cell_type": "code",
   "execution_count": null,
   "id": "690869b8",
   "metadata": {},
   "outputs": [
    {
     "name": "stdout",
     "output_type": "stream",
     "text": [
      "1)\n",
      "\n",
      "Original Array:\n",
      " [[ 8  7 14  1  4]\n",
      " [17  4  4 17  2]\n",
      " [10 16 15 18 10]\n",
      " [18  2  6  8 13]\n",
      " [ 3 12  1  7 17]]\n",
      "\n",
      "Modified Array:\n",
      " [[ 8  7  1  1  4]\n",
      " [17  4  1 17  2]\n",
      " [10 16  1 18 10]\n",
      " [18  2  1  8 13]\n",
      " [ 3 12  1  7 17]]\n",
      "\n",
      "2)\n",
      "\n",
      "Original Array:\n",
      " [[ 2 13  2  9]\n",
      " [11  3 10  9]\n",
      " [ 8  7  8  9]\n",
      " [12 10  5 15]]\n",
      "\n",
      "Modified Array:\n",
      " [[ 0 13  2  9]\n",
      " [11  0 10  9]\n",
      " [ 8  7  0  9]\n",
      " [12 10  5  0]]\n"
     ]
    }
   ],
   "source": [
    "# 1)\n",
    "\n",
    "# original array creation\n",
    "arr101 = np.random.randint(1, 21, size= (5,5))\n",
    "print(\"1)\\n\\nOriginal Array:\\n\",arr101)\n",
    "\n",
    "# replacement of original array creation\n",
    "arr101[:,2] = 1\n",
    "print(\"\\nModified Array:\\n\", arr101)\n",
    "\n",
    "# 2)\n",
    "\n",
    "# original array creation\n",
    "arr102 = np.random.randint(1,17, size= (4,4))\n",
    "print(\"\\n2)\\n\\nOriginal Array:\\n\",arr102)\n",
    "\n",
    "# diagonal replacement\n",
    "# arr102[np.arange(4), np.arange(4)] = 0\n",
    "np.fill_diagonal(arr102,0)\n",
    "print(\"\\nModified Array:\\n\", arr102)"
   ]
  },
  {
   "cell_type": "markdown",
   "id": "6c7f6534",
   "metadata": {},
   "source": [
    "### Assignment 2: Array Indexing and Slicing\n",
    "\n",
    "1. Create a NumPy array of shape (6, 6) with values from 1 to 36. Extract the sub-array consisting of the 3rd to 5th rows and 2nd to 4th columns.\n",
    "2. Create a NumPy array of shape (5, 5) with random integers. Extract the elements on the border."
   ]
  },
  {
   "cell_type": "code",
   "execution_count": 109,
   "id": "4028a80a",
   "metadata": {},
   "outputs": [
    {
     "name": "stdout",
     "output_type": "stream",
     "text": [
      "1)\n",
      "\n",
      " Original array creation:\n",
      " [[ 2  9 15 21  6 31]\n",
      " [14 34 14 25  3 21]\n",
      " [25 34 36 23  4 29]\n",
      " [21 15 36 27 35 18]\n",
      " [25  5 36 36 26 33]\n",
      " [33 25  4 22  9  4]]\n",
      "\n",
      "Sub-array:\n",
      " [[34 36 23]\n",
      " [15 36 27]\n",
      " [ 5 36 36]]\n",
      "\n",
      "2)\n",
      "\n",
      " Original array creation:\n",
      " [[39 43 32 31 40]\n",
      " [33 32 48 12 34]\n",
      " [24 41 13 40 49]\n",
      " [ 1  6 18 44 16]\n",
      " [ 5 44  3  4 14]]\n",
      "\n",
      "Elements on the border:\n",
      " [39 43 32 31 40 34 49 16 33 24  1  5 44  3  4 14]\n"
     ]
    }
   ],
   "source": [
    "# 1)\n",
    "\n",
    "# original array creation\n",
    "arr201 = np.random.randint(1,37, size = (6,6))\n",
    "print(\"1)\\n\\n Original array creation:\\n\", arr201)\n",
    "\n",
    "# Sub-array\n",
    "print(\"\\nSub-array:\\n\", arr201[2:5,1:4])\n",
    "\n",
    "#2)\n",
    "# original array creation\n",
    "arr202 = np.random.randint(50,size = (5,5))\n",
    "print(\"\\n2)\\n\\n Original array creation:\\n\", arr202)\n",
    "\n",
    "# Elements on the border\n",
    "print(\"\\nElements on the border:\\n\",\n",
    "      np.concatenate(\n",
    "          (arr202[0,:],\n",
    "           arr202[1:-1,-1],\n",
    "           arr202[1:-1,0],\n",
    "           arr202[-1,:])))\n"
   ]
  },
  {
   "cell_type": "markdown",
   "id": "b0d8a684",
   "metadata": {},
   "source": [
    "### Assignment 3: Array Operations\n",
    "\n",
    "1. Create two NumPy arrays of shape (3, 4) filled with random integers. Perform element-wise addition, subtraction, multiplication, and division.\n",
    "2. Create a NumPy array of shape (4, 4) with values from 1 to 16. Compute the row-wise and column-wise sum."
   ]
  },
  {
   "cell_type": "code",
   "execution_count": null,
   "id": "ecaf0d7e",
   "metadata": {},
   "outputs": [
    {
     "name": "stdout",
     "output_type": "stream",
     "text": [
      "1)\n",
      "\n",
      " Array 01:\n",
      " [[ 1  1 36 17]\n",
      " [35  1 12 31]\n",
      " [11 45  9 36]]\n",
      "\n",
      " Array 02:\n",
      " [[16 27 46 27]\n",
      " [31 20 32 13]\n",
      " [32 43 18 25]]\n",
      "\n",
      " Element wise addition:\n",
      " [[17 28 82 44]\n",
      " [66 21 44 44]\n",
      " [43 88 27 61]]\n",
      "\n",
      " Element wise subtraction:\n",
      " [[-15 -26 -10 -10]\n",
      " [  4 -19 -20  18]\n",
      " [-21   2  -9  11]]\n",
      "\n",
      " Element wise multiplication:\n",
      " [[  16   27 1656  459]\n",
      " [1085   20  384  403]\n",
      " [ 352 1935  162  900]]\n",
      "\n",
      " Element wise division:\n",
      " [[0.0625     0.03703704 0.7826087  0.62962963]\n",
      " [1.12903226 0.05       0.375      2.38461538]\n",
      " [0.34375    1.04651163 0.5        1.44      ]]\n"
     ]
    }
   ],
   "source": [
    "#1)\n",
    "\n",
    "# array 01:\n",
    "arr301 = np.random.randint(1, 50,size = (3,4))\n",
    "print(\"1)\\n\\n Array 01:\\n\", arr301)\n",
    "\n",
    "# array 02:\n",
    "arr302 = np.random.randint(1, 50,size = (3,4))\n",
    "print(\"\\n Array 02:\\n\", arr302)\n",
    "\n",
    "#Element wise addition\n",
    "arr303 = arr301 + arr302\n",
    "print(\"\\n Element wise addition:\\n\", arr303)\n",
    "\n",
    "#Element wise subtraction\n",
    "arr304 = arr301 - arr302\n",
    "print(\"\\n Element wise subtraction:\\n\", arr304)\n",
    "\n",
    "#Element wise multiplication\n",
    "arr305 = arr301 * arr302\n",
    "print(\"\\n Element wise multiplication:\\n\", arr305)\n",
    "\n",
    "#Element wise Division\n",
    "arr306 = arr301 / arr302\n",
    "print(\"\\n Element wise division:\\n\", arr306)\n"
   ]
  },
  {
   "cell_type": "code",
   "execution_count": 107,
   "id": "887902f3",
   "metadata": {},
   "outputs": [
    {
     "name": "stdout",
     "output_type": "stream",
     "text": [
      "\n",
      "2)\n",
      "\n",
      " Array 03:\n",
      " [[ 6  7 12  3]\n",
      " [11 15  1 14]\n",
      " [ 6  9 11  2]\n",
      " [16  9 10  2]]\n",
      "\n",
      " Row-wise sum of Array:\n",
      " [28 41 28 37]\n",
      "\n",
      " Column-wise sum of Array:\n",
      " [39 40 34 21]\n"
     ]
    }
   ],
   "source": [
    "#2\n",
    "\n",
    "#Array Creation:\n",
    "\n",
    "arr307 = np.random.randint(1, 17, size = (4,4))\n",
    "print(\"\\n2)\\n\\n Array 03:\\n\", arr307)\n",
    "\n",
    "#Row-wise sum\n",
    "print(\"\\n Row-wise sum of Array:\\n\", np.sum(arr307, axis = 1))\n",
    "\n",
    "#Column-wise sum\n",
    "print(\"\\n Column-wise sum of Array:\\n\", np.sum(arr307, axis = 0))\n"
   ]
  },
  {
   "cell_type": "markdown",
   "id": "c86b0873",
   "metadata": {},
   "source": [
    "### Assignment 4: Statistical Operations\n",
    "\n",
    "1. Create a NumPy array of shape (5, 5) filled with random integers. Compute the mean, median, standard deviation, and variance of the array.\n",
    "2. Create a NumPy array of shape (3, 3) with values from 1 to 9. Normalize the array (i.e., scale the values to have a mean of 0 and a standard deviation of 1)."
   ]
  },
  {
   "cell_type": "code",
   "execution_count": 121,
   "id": "4ae5182f",
   "metadata": {},
   "outputs": [
    {
     "name": "stdout",
     "output_type": "stream",
     "text": [
      "1)\n",
      "\n",
      " Original array creation:\n",
      " [[ 5 12  4 13 11]\n",
      " [13 17  8  4 16]\n",
      " [-4 -1  5  8 -3]\n",
      " [ 7  5  0 12  0]\n",
      " [-3 -4  8 -4  6]]\n",
      "\n",
      "Mean :\t\t\t 5.4\n",
      "Median :\t\t 5.0\n",
      "Standard Deviation :\t 6.368673331236264\n",
      "Variance :\t\t 40.56\n"
     ]
    }
   ],
   "source": [
    "# 1)\n",
    "\n",
    "# original array creation\n",
    "arr401 = np.random.randint(-5,20, size = (5,5))\n",
    "print(\"1)\\n\\n Original array creation:\\n\", arr401)\n",
    "\n",
    "print(\"\\nMean :\\t\\t\\t\",arr401.mean())\n",
    "print(\"Median :\\t\\t\",np.median(arr401))\n",
    "print(\"Standard Deviation :\\t\",arr401.std())\n",
    "print(\"Variance :\\t\\t\",arr401.var())"
   ]
  },
  {
   "cell_type": "code",
   "execution_count": 134,
   "id": "22c3e368",
   "metadata": {},
   "outputs": [
    {
     "name": "stdout",
     "output_type": "stream",
     "text": [
      "2)\n",
      "\n",
      " Original array creation:\n",
      " [[1 2 3]\n",
      " [4 5 6]\n",
      " [7 8 9]]\n",
      "\n",
      "Normalised Array :\n",
      " [[-1.54919334 -1.161895   -0.77459667]\n",
      " [-0.38729833  0.          0.38729833]\n",
      " [ 0.77459667  1.161895    1.54919334]]\n"
     ]
    }
   ],
   "source": [
    "# 2)\n",
    "\n",
    "# original array creation\n",
    "arr402 = np.arange(1,10,1).reshape(3,3)\n",
    "\n",
    "# arr402 = np.random.randint(1,10, size = (3,3))\n",
    "print(\"2)\\n\\n Original array creation:\\n\", arr402)\n",
    "\n",
    "#Normalised Array = (Array - Mean) / Standard Deviation\n",
    "arr403 = (arr402 - np.mean(arr402)) / np.std(arr402)\n",
    "\n",
    "print(\"\\nNormalised Array :\\n\",arr403)"
   ]
  },
  {
   "cell_type": "markdown",
   "id": "822233c5",
   "metadata": {},
   "source": [
    "### Assignment 5: Broadcasting\n",
    "\n",
    "1. Create a NumPy array of shape (3, 3) filled with random integers. Add a 1D array of shape (3,) to each row of the 2D array using broadcasting.\n",
    "2. Create a NumPy array of shape (4, 4) filled with random integers. Subtract a 1D array of shape (4,) from each column of the 2D array using broadcasting."
   ]
  },
  {
   "cell_type": "code",
   "execution_count": 138,
   "id": "6703d91c",
   "metadata": {},
   "outputs": [
    {
     "name": "stdout",
     "output_type": "stream",
     "text": [
      "1)\n",
      "\n",
      " Array 01:\n",
      " [[3 2 8]\n",
      " [5 1 9]\n",
      " [8 7 3]]\n",
      "\n",
      " Array 02:\n",
      " [10  9  5]\n",
      "\n",
      "Add the 1D array to each row of the 2D array using broadcasting:\n",
      " [[13 11 13]\n",
      " [15 10 14]\n",
      " [18 16  8]]\n"
     ]
    }
   ],
   "source": [
    "# 1)\n",
    "\n",
    "# array 01:\n",
    "arr501 = np.random.randint(1, 11, size = (3,3))\n",
    "print(\"1)\\n\\n Array 01:\\n\", arr501)\n",
    "\n",
    "# array 02:\n",
    "arr502 = np.random.randint(1, 11,size = (3,))\n",
    "print(\"\\n Array 02:\\n\", arr502)\n",
    "\n",
    "# # Add the 1D array to each row of the 2D array using broadcasting\n",
    "print(\"\\nAdd the 1D array to each row of the 2D array using broadcasting:\\n\",arr501 + arr502)"
   ]
  },
  {
   "cell_type": "code",
   "execution_count": 139,
   "id": "0ec005b5",
   "metadata": {},
   "outputs": [
    {
     "name": "stdout",
     "output_type": "stream",
     "text": [
      "2)\n",
      "\n",
      " Array 01:\n",
      " [[ 4  5  6]\n",
      " [10  2  9]\n",
      " [ 7 10  8]]\n",
      "\n",
      " Array 02:\n",
      " [4 8 7]\n",
      "\n",
      "Subtract the 1D array to each row of the 2D array using broadcasting:\n",
      " [[ 0 -3 -1]\n",
      " [ 6 -6  2]\n",
      " [ 3  2  1]]\n"
     ]
    }
   ],
   "source": [
    "# 2)\n",
    "\n",
    "# array 01:\n",
    "arr503 = np.random.randint(1, 11, size = (3,3))\n",
    "print(\"2)\\n\\n Array 01:\\n\", arr503)\n",
    "\n",
    "# array 02:\n",
    "arr504 = np.random.randint(1, 11,size = (3,))\n",
    "print(\"\\n Array 02:\\n\", arr504)\n",
    "\n",
    "# # Subtract the 1D array to each row of the 2D array using broadcasting\n",
    "print(\"\\nSubtract the 1D array to each row of the 2D array using broadcasting:\\n\",arr503 - arr504)"
   ]
  },
  {
   "cell_type": "markdown",
   "id": "735c5b29",
   "metadata": {},
   "source": []
  },
  {
   "cell_type": "code",
   "execution_count": null,
   "id": "9b1918af",
   "metadata": {},
   "outputs": [],
   "source": []
  }
 ],
 "metadata": {
  "kernelspec": {
   "display_name": "Python 3",
   "language": "python",
   "name": "python3"
  },
  "language_info": {
   "codemirror_mode": {
    "name": "ipython",
    "version": 3
   },
   "file_extension": ".py",
   "mimetype": "text/x-python",
   "name": "python",
   "nbconvert_exporter": "python",
   "pygments_lexer": "ipython3",
   "version": "3.12.0"
  }
 },
 "nbformat": 4,
 "nbformat_minor": 5
}
